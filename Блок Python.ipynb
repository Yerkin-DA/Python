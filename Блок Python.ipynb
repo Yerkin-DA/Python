{
 "cells": [
  {
   "cell_type": "code",
   "execution_count": 1,
   "id": "d15ce546",
   "metadata": {},
   "outputs": [],
   "source": [
    "import pandas as pd\n",
    "import numpy as np\n",
    "import matplotlib.pyplot as plt\n",
    "import seaborn as sns"
   ]
  },
  {
   "cell_type": "code",
   "execution_count": 2,
   "id": "6638ea08",
   "metadata": {},
   "outputs": [
    {
     "name": "stdout",
     "output_type": "stream",
     "text": [
      "          Дата  Склад Контрагент Номенклатура  Количество\n",
      "0   2018-01-04      1  address_0    product_0           4\n",
      "1   2018-01-04      1  address_0    product_1           4\n",
      "2   2018-01-04      1  address_0    product_2           5\n",
      "3   2018-01-04      1  address_0    product_3          10\n",
      "4   2018-01-04      1  address_0    product_4           2\n",
      "5   2018-01-04      1  address_0    product_5           2\n",
      "6   2018-01-04      1  address_0    product_6           0\n",
      "7   2018-01-04      1  address_0    product_7           1\n",
      "8   2018-01-04      1  address_0    product_8           1\n",
      "9   2018-01-04      1  address_0    product_9           0\n",
      "10  2018-01-04      1  address_0   product_10           2\n",
      "11  2018-01-04      1  address_0   product_11           2\n",
      "12  2018-01-04      1  address_0   product_12           3\n",
      "13  2018-01-04      1  address_0   product_13           4\n",
      "14  2018-01-04      1  address_0   product_14           2\n",
      "15  2018-01-04      1  address_0   product_15           2\n",
      "16  2018-01-04      1  address_0   product_16           1\n",
      "17  2018-01-04      1  address_0   product_17           4\n",
      "18  2018-01-04      1  address_0   product_18           3\n",
      "19  2018-01-04      1  address_0   product_19           2\n"
     ]
    }
   ],
   "source": [
    "# Прочитайте данные (переменную назовите 'df')\n",
    "df = pd.read_csv('data.csv')\n",
    "\n",
    "# Вывести несколько первых строк таблицы данных\n",
    "print(df.head(20))"
   ]
  },
  {
   "cell_type": "code",
   "execution_count": 3,
   "id": "fe010fc4",
   "metadata": {},
   "outputs": [
    {
     "name": "stdout",
     "output_type": "stream",
     "text": [
      "<class 'pandas.core.frame.DataFrame'>\n",
      "RangeIndex: 301355 entries, 0 to 301354\n",
      "Data columns (total 5 columns):\n",
      " #   Column        Non-Null Count   Dtype \n",
      "---  ------        --------------   ----- \n",
      " 0   Дата          301355 non-null  object\n",
      " 1   Склад         301355 non-null  int64 \n",
      " 2   Контрагент    301355 non-null  object\n",
      " 3   Номенклатура  301355 non-null  object\n",
      " 4   Количество    301355 non-null  int64 \n",
      "dtypes: int64(2), object(3)\n",
      "memory usage: 11.5+ MB\n"
     ]
    }
   ],
   "source": [
    "df.info()"
   ]
  },
  {
   "cell_type": "code",
   "execution_count": 4,
   "id": "f97643c0-bdf3-49dd-abc3-1e99a5603ee7",
   "metadata": {},
   "outputs": [
    {
     "name": "stdout",
     "output_type": "stream",
     "text": [
      "(301355, 5)\n",
      "Index(['Дата', 'Склад', 'Контрагент', 'Номенклатура', 'Количество'], dtype='object')\n"
     ]
    }
   ],
   "source": [
    "print(df.shape)\n",
    "print(df.columns)"
   ]
  },
  {
   "cell_type": "code",
   "execution_count": 5,
   "id": "77bae38a-d7ed-465c-9af6-4a846da4ff58",
   "metadata": {},
   "outputs": [
    {
     "data": {
      "text/html": [
       "<div>\n",
       "<style scoped>\n",
       "    .dataframe tbody tr th:only-of-type {\n",
       "        vertical-align: middle;\n",
       "    }\n",
       "\n",
       "    .dataframe tbody tr th {\n",
       "        vertical-align: top;\n",
       "    }\n",
       "\n",
       "    .dataframe thead th {\n",
       "        text-align: right;\n",
       "    }\n",
       "</style>\n",
       "<table border=\"1\" class=\"dataframe\">\n",
       "  <thead>\n",
       "    <tr style=\"text-align: right;\">\n",
       "      <th></th>\n",
       "      <th>Склад</th>\n",
       "      <th>Количество</th>\n",
       "    </tr>\n",
       "  </thead>\n",
       "  <tbody>\n",
       "    <tr>\n",
       "      <th>count</th>\n",
       "      <td>301355.000000</td>\n",
       "      <td>301355.000000</td>\n",
       "    </tr>\n",
       "    <tr>\n",
       "      <th>mean</th>\n",
       "      <td>2.900652</td>\n",
       "      <td>2.951559</td>\n",
       "    </tr>\n",
       "    <tr>\n",
       "      <th>std</th>\n",
       "      <td>1.352221</td>\n",
       "      <td>2.998154</td>\n",
       "    </tr>\n",
       "    <tr>\n",
       "      <th>min</th>\n",
       "      <td>1.000000</td>\n",
       "      <td>0.000000</td>\n",
       "    </tr>\n",
       "    <tr>\n",
       "      <th>25%</th>\n",
       "      <td>2.000000</td>\n",
       "      <td>1.000000</td>\n",
       "    </tr>\n",
       "    <tr>\n",
       "      <th>50%</th>\n",
       "      <td>3.000000</td>\n",
       "      <td>2.000000</td>\n",
       "    </tr>\n",
       "    <tr>\n",
       "      <th>75%</th>\n",
       "      <td>4.000000</td>\n",
       "      <td>4.000000</td>\n",
       "    </tr>\n",
       "    <tr>\n",
       "      <th>max</th>\n",
       "      <td>5.000000</td>\n",
       "      <td>200.000000</td>\n",
       "    </tr>\n",
       "  </tbody>\n",
       "</table>\n",
       "</div>"
      ],
      "text/plain": [
       "               Склад     Количество\n",
       "count  301355.000000  301355.000000\n",
       "mean        2.900652       2.951559\n",
       "std         1.352221       2.998154\n",
       "min         1.000000       0.000000\n",
       "25%         2.000000       1.000000\n",
       "50%         3.000000       2.000000\n",
       "75%         4.000000       4.000000\n",
       "max         5.000000     200.000000"
      ]
     },
     "execution_count": 5,
     "metadata": {},
     "output_type": "execute_result"
    }
   ],
   "source": [
    "df.describe()"
   ]
  },
  {
   "cell_type": "markdown",
   "id": "a8e1b306",
   "metadata": {},
   "source": [
    "Проверяем формат столбцов"
   ]
  },
  {
   "cell_type": "code",
   "execution_count": 7,
   "id": "879d9e0e-48c3-454b-b4cd-423a4a602ac8",
   "metadata": {},
   "outputs": [
    {
     "name": "stdout",
     "output_type": "stream",
     "text": [
      "Дата            object\n",
      "Склад            int64\n",
      "Контрагент      object\n",
      "Номенклатура    object\n",
      "Количество       int64\n",
      "dtype: object\n"
     ]
    }
   ],
   "source": [
    "print(df.dtypes)"
   ]
  },
  {
   "cell_type": "markdown",
   "id": "ab427988",
   "metadata": {},
   "source": [
    "Сразу переведем столбец \"Дата\" в правильный формат"
   ]
  },
  {
   "cell_type": "code",
   "execution_count": 9,
   "id": "993e066a-4c38-4dda-892f-8135d14b7846",
   "metadata": {},
   "outputs": [
    {
     "name": "stdout",
     "output_type": "stream",
     "text": [
      "Дата            datetime64[ns]\n",
      "Склад                  float64\n",
      "Контрагент             float64\n",
      "Номенклатура           float64\n",
      "Количество             float64\n",
      "dtype: object\n"
     ]
    }
   ],
   "source": [
    "data = {'Дата':[],\n",
    "        'Склад':[],\n",
    "        'Контрагент':[],\n",
    "        'Номенклатура':[],\n",
    "        'Количество':[]}\n",
    "df = pd.DataFrame(data)\n",
    "df['Дата'] = pd.to_datetime(df['Дата'])\n",
    "print(df.dtypes)"
   ]
  },
  {
   "cell_type": "markdown",
   "id": "c117ede9",
   "metadata": {},
   "source": [
    "Сгруппируйте данные по дате, посчитайте количество продаж"
   ]
  },
  {
   "cell_type": "code",
   "execution_count": 11,
   "id": "66085e84",
   "metadata": {},
   "outputs": [
    {
     "data": {
      "text/html": [
       "<div>\n",
       "<style scoped>\n",
       "    .dataframe tbody tr th:only-of-type {\n",
       "        vertical-align: middle;\n",
       "    }\n",
       "\n",
       "    .dataframe tbody tr th {\n",
       "        vertical-align: top;\n",
       "    }\n",
       "\n",
       "    .dataframe thead th {\n",
       "        text-align: right;\n",
       "    }\n",
       "</style>\n",
       "<table border=\"1\" class=\"dataframe\">\n",
       "  <thead>\n",
       "    <tr style=\"text-align: right;\">\n",
       "      <th></th>\n",
       "      <th>Дата</th>\n",
       "      <th>Количество</th>\n",
       "    </tr>\n",
       "  </thead>\n",
       "  <tbody>\n",
       "    <tr>\n",
       "      <th>0</th>\n",
       "      <td>2018-01-04</td>\n",
       "      <td>3734</td>\n",
       "    </tr>\n",
       "    <tr>\n",
       "      <th>1</th>\n",
       "      <td>2018-01-05</td>\n",
       "      <td>3643</td>\n",
       "    </tr>\n",
       "    <tr>\n",
       "      <th>2</th>\n",
       "      <td>2018-01-06</td>\n",
       "      <td>3193</td>\n",
       "    </tr>\n",
       "    <tr>\n",
       "      <th>3</th>\n",
       "      <td>2018-01-07</td>\n",
       "      <td>3298</td>\n",
       "    </tr>\n",
       "    <tr>\n",
       "      <th>4</th>\n",
       "      <td>2018-01-09</td>\n",
       "      <td>4055</td>\n",
       "    </tr>\n",
       "    <tr>\n",
       "      <th>...</th>\n",
       "      <td>...</td>\n",
       "      <td>...</td>\n",
       "    </tr>\n",
       "    <tr>\n",
       "      <th>200</th>\n",
       "      <td>2018-08-26</td>\n",
       "      <td>5302</td>\n",
       "    </tr>\n",
       "    <tr>\n",
       "      <th>201</th>\n",
       "      <td>2018-08-28</td>\n",
       "      <td>5983</td>\n",
       "    </tr>\n",
       "    <tr>\n",
       "      <th>202</th>\n",
       "      <td>2018-08-29</td>\n",
       "      <td>4969</td>\n",
       "    </tr>\n",
       "    <tr>\n",
       "      <th>203</th>\n",
       "      <td>2018-08-30</td>\n",
       "      <td>4648</td>\n",
       "    </tr>\n",
       "    <tr>\n",
       "      <th>204</th>\n",
       "      <td>2018-08-31</td>\n",
       "      <td>4570</td>\n",
       "    </tr>\n",
       "  </tbody>\n",
       "</table>\n",
       "<p>205 rows × 2 columns</p>\n",
       "</div>"
      ],
      "text/plain": [
       "          Дата  Количество\n",
       "0   2018-01-04        3734\n",
       "1   2018-01-05        3643\n",
       "2   2018-01-06        3193\n",
       "3   2018-01-07        3298\n",
       "4   2018-01-09        4055\n",
       "..         ...         ...\n",
       "200 2018-08-26        5302\n",
       "201 2018-08-28        5983\n",
       "202 2018-08-29        4969\n",
       "203 2018-08-30        4648\n",
       "204 2018-08-31        4570\n",
       "\n",
       "[205 rows x 2 columns]"
      ]
     },
     "execution_count": 11,
     "metadata": {},
     "output_type": "execute_result"
    }
   ],
   "source": [
    "df = pd.read_csv('data.csv')\n",
    "df['Дата'] = pd.to_datetime(df['Дата'])\n",
    "\n",
    "grouped_df = df.groupby('Дата')['Количество'].sum().reset_index()\n",
    "grouped_df"
   ]
  },
  {
   "cell_type": "markdown",
   "id": "fbfd90ac",
   "metadata": {},
   "source": [
    "Вывести несколько первых строк сгруппированных данных"
   ]
  },
  {
   "cell_type": "code",
   "execution_count": 13,
   "id": "79e12654",
   "metadata": {},
   "outputs": [
    {
     "name": "stdout",
     "output_type": "stream",
     "text": [
      "         Дата  Количество\n",
      "0  2018-01-04        3734\n",
      "1  2018-01-05        3643\n",
      "2  2018-01-06        3193\n",
      "3  2018-01-07        3298\n",
      "4  2018-01-09        4055\n",
      "5  2018-01-10        3653\n",
      "6  2018-01-11        3176\n",
      "7  2018-01-12        3092\n",
      "8  2018-01-13        3294\n",
      "9  2018-01-14        3228\n",
      "10 2018-01-16        4310\n",
      "11 2018-01-17        4004\n",
      "12 2018-01-18        3759\n",
      "13 2018-01-19        3688\n",
      "14 2018-01-20        3697\n",
      "15 2018-01-21        3508\n",
      "16 2018-01-23        4528\n",
      "17 2018-01-24        4076\n",
      "18 2018-01-25        3868\n",
      "19 2018-01-26        3650\n"
     ]
    }
   ],
   "source": [
    "print(grouped_df.head(20))"
   ]
  },
  {
   "cell_type": "markdown",
   "id": "9ce32d36",
   "metadata": {},
   "source": [
    "Нарисуйте график продаж у `grouped_df`"
   ]
  },
  {
   "cell_type": "code",
   "execution_count": 15,
   "id": "9a46b2f5",
   "metadata": {},
   "outputs": [
    {
     "data": {
      "image/png": "[encoded data removed]",
      "text/plain": [
       "<Figure size 1200x800 with 1 Axes>"
      ]
     },
     "metadata": {},
     "output_type": "display_data"
    }
   ],
   "source": [
    "import matplotlib.pyplot as plt\n",
    "\n",
    "plt.figure(figsize=(12, 8))\n",
    "plt.plot(grouped_df['Дата'], grouped_df['Количество'], color='skyblue')\n",
    "plt.title('Количество продаж по дате')\n",
    "plt.xlabel('Дата')\n",
    "plt.ylabel('Количество продаж')\n",
    "plt.xticks(rotation=45)\n",
    "plt.grid(axis='y')\n",
    "\n",
    "plt.tight_layout()\n",
    "plt.show()"
   ]
  },
  {
   "cell_type": "markdown",
   "id": "311b54f3",
   "metadata": {},
   "source": [
    "Опишите что вы видите на графике. Ваша задача - максимально описать график"
   ]
  },
  {
   "cell_type": "code",
   "execution_count": 17,
   "id": "0d03f83f-f013-4ca1-8843-f1aa4401f8d0",
   "metadata": {},
   "outputs": [
    {
     "name": "stdout",
     "output_type": "stream",
     "text": [
      "Максимальное значение: 6226\n",
      "Минимальное значение: 2326\n",
      "\n",
      "Строки с максимальным значением:\n",
      "          Дата  Количество\n",
      "195 2018-08-21        6226\n",
      "\n",
      "Строки с минимальным значением:\n",
      "         Дата  Количество\n",
      "88 2018-04-18        2326\n"
     ]
    }
   ],
   "source": [
    "max_value = grouped_df['Количество'].max()\n",
    "min_value = grouped_df['Количество'].min()\n",
    "\n",
    "print(f\"Максимальное значение: {max_value}\")\n",
    "print(f\"Минимальное значение: {min_value}\")\n",
    "\n",
    "max_row = grouped_df[grouped_df['Количество'] == max_value]\n",
    "min_row = grouped_df[grouped_df['Количество'] == min_value]\n",
    "\n",
    "print(\"\\nСтроки с максимальным значением:\")\n",
    "print(max_row)\n",
    "\n",
    "print(\"\\nСтроки с минимальным значением:\")\n",
    "print(min_row)"
   ]
  },
  {
   "cell_type": "code",
   "execution_count": 18,
   "id": "c35df4fa",
   "metadata": {},
   "outputs": [
    {
     "name": "stdout",
     "output_type": "stream",
     "text": [
      "Среднее значение по количеству: 4338.86\n"
     ]
    }
   ],
   "source": [
    "mean_value = grouped_df['Количество'].mean()\n",
    "\n",
    "# Вывод результата\n",
    "print(f\"Среднее значение по количеству: {mean_value:.2f}\")"
   ]
  },
  {
   "cell_type": "code",
   "execution_count": 19,
   "id": "c96aa35e-d601-476e-aa90-e82427720c2d",
   "metadata": {},
   "outputs": [
    {
     "name": "stdout",
     "output_type": "stream",
     "text": [
      "Количество уникальных товаров: 24\n"
     ]
    }
   ],
   "source": [
    "unique_products_count = df['Номенклатура'].nunique()\n",
    "\n",
    "# Вывод результата\n",
    "print(f\"Количество уникальных товаров: {unique_products_count}\")"
   ]
  },
  {
   "cell_type": "code",
   "execution_count": 20,
   "id": "68f53b93-8152-452f-9a2f-20056fb49daf",
   "metadata": {},
   "outputs": [
    {
     "ename": "SyntaxError",
     "evalue": "invalid syntax (2878777023.py, line 1)",
     "output_type": "error",
     "traceback": [
      "\u001b[1;36m  Cell \u001b[1;32mIn[20], line 1\u001b[1;36m\u001b[0m\n\u001b[1;33m    На графике представлена картина по количеству продаж различного продукта за 8 месяцев 2018 года, с января по август включительно.\u001b[0m\n\u001b[1;37m       ^\u001b[0m\n\u001b[1;31mSyntaxError\u001b[0m\u001b[1;31m:\u001b[0m invalid syntax\n"
     ]
    }
   ],
   "source": [
    "На графике представлена картина по количеству продаж различного продукта за 8 месяцев 2018 года, с января по август включительно. \n",
    "24 вида уникальных товаров. С января по середину марта продажи росли, с отметки 3700(примерно) до 4900(примерно) единиц в месяц. \n",
    "Далее до середины апреля, то есть, в течение одного месяца был значительный спад до минимума на отметке 2326 единиц. \n",
    "Далее продажи пошли выше и 21 августа было продано максимальное количество товара 6226 единиц. За весь период среднее значение по продажам \n",
    "составило 4339 единиц различного товара."
   ]
  },
  {
   "cell_type": "markdown",
   "id": "85412b89",
   "metadata": {},
   "source": [
    "Найдите строку, у которой максимальный выброс по количеству продаж (нужно найти выброс у `df`)"
   ]
  },
  {
   "cell_type": "code",
   "execution_count": null,
   "id": "2baebf0c",
   "metadata": {},
   "outputs": [],
   "source": [
    "Q1 = df['Количество'].quantile(0.25)\n",
    "Q3 = df['Количество'].quantile(0.75)\n",
    "\n",
    "# Вычисляем IQR\n",
    "IQR = Q3 - Q1\n",
    "\n",
    "# Определяем границы для выбросов\n",
    "lower_bound = Q1 - 1.5 * IQR\n",
    "upper_bound = Q3 + 1.5 * IQR\n",
    "\n",
    "# Находим выбросы\n",
    "outliers = df[(df['Количество'] < lower_bound) | (df['Количество'] > upper_bound)]\n",
    "\n",
    "# Проверяем наличие выбросов и находим максимальный выброс\n",
    "if not outliers.empty:\n",
    "    max_outlier_value = outliers['Количество'].max()\n",
    "    max_outlier_row = outliers[outliers['Количество'] == max_outlier_value]\n",
    "    print(\"Строка с максимальным выбросом:\")\n",
    "    print(max_outlier_row)\n",
    "else:\n",
    "    print(\"Нет выбросов.\")"
   ]
  },
  {
   "cell_type": "markdown",
   "id": "30aa9654",
   "metadata": {},
   "source": [
    "Найдите топовый товар по продажам по средам за июнь, июль, август у 3 склада"
   ]
  },
  {
   "cell_type": "code",
   "execution_count": null,
   "id": "c3d75d16",
   "metadata": {},
   "outputs": [],
   "source": [
    "filtered_df = df[(df['Дата'].dt.month.isin([6, 7, 8])) & (df['Дата'].dt.weekday == 2)]\n",
    "\n",
    "# Группировка по товару и суммирование количества\n",
    "top_products = filtered_df.groupby('Номенклатура')['Количество'].sum().reset_index()\n",
    "\n",
    "# Поиск топового товара\n",
    "top_product = top_products.loc[top_products['Количество'].idxmax()]\n",
    "\n",
    "print(\"Топовый товар по продажам за июнь, июль и август по средам:\")\n",
    "print(top_product)"
   ]
  },
  {
   "cell_type": "markdown",
   "id": "66211d92",
   "metadata": {},
   "source": [
    "Скачайте данные по погоде с https://rp5.ru/Архив_погоды_в_Астане (скачайте исходные данные, и далее преобразуйте так, чтобы мы имели Дату и Среднюю температуру за день), объедините таблицу температуры с `grouped_df`, и нарисуйте график `y=['Количество продаж', 'T']`, где Т это температура. А также отдельно график температуры."
   ]
  },
  {
   "cell_type": "code",
   "execution_count": null,
   "id": "e0d96838-7575-4f45-8b87-ddeee76a48ce",
   "metadata": {},
   "outputs": [],
   "source": [
    "pip install xlrd xlwt openpyxl "
   ]
  },
  {
   "cell_type": "code",
   "execution_count": null,
   "id": "5f707733",
   "metadata": {},
   "outputs": [],
   "source": [
    "import pandas as pd\n",
    "import numpy as np\n",
    "import matplotlib.pyplot as plt\n",
    "import seaborn as sns\n",
    "\n",
    "tf = pd.read_excel('weather.xls')\n",
    "\n",
    "print(tf.head(20))"
   ]
  },
  {
   "cell_type": "code",
   "execution_count": null,
   "id": "48de151a-467c-4549-9439-a6aa0bf9e71c",
   "metadata": {},
   "outputs": [],
   "source": [
    "print(tf.dtypes)"
   ]
  },
  {
   "cell_type": "code",
   "execution_count": null,
   "id": "f5630d52-c3ca-40e6-be48-8c7f97329888",
   "metadata": {},
   "outputs": [],
   "source": [
    "tf.columns"
   ]
  },
  {
   "cell_type": "code",
   "execution_count": null,
   "id": "cfb4392c-cd82-4b21-9006-a08553a79ba4",
   "metadata": {},
   "outputs": [],
   "source": [
    "import pandas as pd\n",
    "\n",
    "tf = pd.read_excel('weather.xls')\n",
    "tf['Дата'] = pd.to_datetime(tf['Дата'])\n",
    "\n",
    "grouped_tf = tf[['Дата', 'Tемпература']].groupby('Дата').mean().sort_values(by='Дата').reset_index()\n",
    "\n",
    "grouped_tf.columns = ['Дата', 'Средняя Температура']\n",
    "\n",
    "grouped_tf\n"
   ]
  },
  {
   "cell_type": "code",
   "execution_count": null,
   "id": "c921e824-fbf5-4ee8-b9e6-83d3b62069ff",
   "metadata": {},
   "outputs": [],
   "source": [
    "merged_tb = pd.merge(grouped_tf, grouped_df, on='Дата')\n",
    "merged_tb"
   ]
  },
  {
   "cell_type": "code",
   "execution_count": null,
   "id": "cb1cbb13-b824-4091-b336-fce4c71d906f",
   "metadata": {},
   "outputs": [],
   "source": [
    "index_check = merged_tb.index.isin(range(len(df)))\n",
    "\n",
    "if all(index_check):\n",
    "    print(\"Индексы совпадают.\")\n",
    "else:\n",
    "    print(\"Индексы не совпадают.\")"
   ]
  },
  {
   "cell_type": "code",
   "execution_count": null,
   "id": "dee5e4fc-6f7c-418f-a9cc-4e332d53e5fd",
   "metadata": {},
   "outputs": [],
   "source": [
    "print(len(merged_tb['Дата']))\n",
    "print(len(merged_tb['Количество']))\n",
    "print(len(merged_tb['Средняя Температура']))"
   ]
  },
  {
   "cell_type": "code",
   "execution_count": null,
   "id": "9e554042-b6b2-42d0-82f5-9f9fca6923c1",
   "metadata": {},
   "outputs": [],
   "source": [
    "merged_tb_cleaned = merged_tb.dropna(subset=['Дата', 'Количество', 'Средняя Температура'])\n"
   ]
  },
  {
   "cell_type": "code",
   "execution_count": null,
   "id": "c6b2c6b8-e346-4d3b-b534-446e9960dd25",
   "metadata": {},
   "outputs": [],
   "source": [
    "import pandas as pd\n",
    "import matplotlib.pyplot as plt\n",
    "\n",
    "if 'Дата' in merged_tb_cleaned.columns:\n",
    "    merged_tb_cleaned.set_index('Дата', inplace=True)\n",
    "    \n",
    "fig, ax1 = plt.subplots(figsize=(12, 8))\n",
    "\n",
    "ax1.set_xlabel('Дата')\n",
    "ax1.set_ylabel('Количество', color='tab:blue')\n",
    "ax1.plot(merged_tb_cleaned.index, merged_tb_cleaned['Количество'], color='tab:blue', label='Количество', marker='o')\n",
    "ax1.tick_params(axis='y', labelcolor='tab:blue')\n",
    "\n",
    "ax2 = ax1.twinx()\n",
    "ax2.set_ylabel('Средняя Температура', color='tab:red')\n",
    "ax2.plot(merged_tb_cleaned.index, merged_tb_cleaned['Средняя Температура'], color='tab:red', label='Температура', marker='o')\n",
    "ax2.tick_params(axis='y', labelcolor='tab:red')\n",
    "\n",
    "plt.title('Продажи и Средняя Температура по Датам')\n",
    "ax1.legend(loc='upper left')\n",
    "ax2.legend(loc='upper right')\n",
    "\n",
    "fig.autofmt_xdate()\n",
    "\n",
    "ax1.grid(True)\n",
    "\n",
    "fig.tight_layout()\n",
    "plt.show()\n"
   ]
  },
  {
   "cell_type": "code",
   "execution_count": null,
   "id": "46235e5a-9628-4c85-8759-b006743ddc45",
   "metadata": {},
   "outputs": [],
   "source": [
    "import pandas as pd\n",
    "import matplotlib.pyplot as plt\n",
    "\n",
    "if 'Дата' in merged_tb_cleaned.columns:\n",
    "    merged_tb_cleaned.set_index('Дата', inplace=True)\n",
    "\n",
    "plt.figure(figsize=(10, 8))\n",
    "plt.plot(merged_tb_cleaned.index, merged_tb_cleaned['Средняя Температура'], color='tab:red', label='Температура', marker='o')\n",
    "plt.xlabel('Дата')\n",
    "plt.ylabel('Средняя Температура', color='tab:red')\n",
    "plt.title('Средняя Температура по Датам')\n",
    "plt.legend()\n",
    "plt.grid(True)\n",
    "plt.xticks(rotation=45)\n",
    "plt.tight_layout()\n",
    "plt.show()\n"
   ]
  },
  {
   "cell_type": "code",
   "execution_count": null,
   "id": "0c58de22-3424-48eb-a748-c2b54c7526ac",
   "metadata": {},
   "outputs": [],
   "source": []
  }
 ],
 "metadata": {
  "kernelspec": {
   "display_name": "Python 3 (ipykernel)",
   "language": "python",
   "name": "python3"
  },
  "language_info": {
   "codemirror_mode": {
    "name": "ipython",
    "version": 3
   },
   "file_extension": ".py",
   "mimetype": "text/x-python",
   "name": "python",
   "nbconvert_exporter": "python",
   "pygments_lexer": "ipython3",
   "version": "3.12.4"
  }
 },
 "nbformat": 4,
 "nbformat_minor": 5
}
